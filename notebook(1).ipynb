{
  "cells": [
    {
      "metadata": {
        "collapsed": true,
        "_cell_guid": "02eb72b4-2016-45ed-b802-7160e7a12fb8",
        "_uuid": "a5ca4610fc731fc7f706e4d1a0327b58f9f8748b",
        "trusted": false
      },
      "cell_type": "code",
      "source": "# This Python 3 environment comes with many helpful analytics libraries installed\n# It is defined by the kaggle/python docker image: https://github.com/kaggle/docker-python\n# For example, here's several helpful packages to load in \n\nimport numpy as np # linear algebra\nimport pandas as pd # data processing, CSV file I/O (e.g. pd.read_csv)\nimport math\n# Input data files are available in the \"../input/\" directory.\n# For example, running this (by clicking run or pressing Shift+Enter) will list the files in the input directory\n\nfrom subprocess import check_output\nprint(check_output([\"ls\", \"../input\"]).decode(\"utf8\"))\n\n# Any results you write to the current directory are saved as output.",
      "execution_count": null,
      "outputs": []
    },
    {
      "metadata": {
        "collapsed": true,
        "_cell_guid": "1b7a45a2-676c-4619-b609-32aa56c1a7d8",
        "_uuid": "298fe78f7cc3f8b09eeb645012b956fc0b06defb",
        "trusted": false
      },
      "cell_type": "code",
      "source": "def rmsle(y, y_pred):\n    assert len(y) == len(y_pred)\n    to_sum = [(math.log(y_pred[i] + 1) - math.log(y[i] + 1)) ** 2.0 for i,pred in enumerate(y_pred)]\n    return (sum(to_sum) * (1.0/len(y))) ** 0.5",
      "execution_count": null,
      "outputs": []
    },
    {
      "metadata": {
        "collapsed": true,
        "_cell_guid": "4d33acec-ffca-4f0f-a81b-73ff5076a218",
        "_uuid": "f591804eb063669d8307a79610493aaffe7b9e46",
        "trusted": false
      },
      "cell_type": "code",
      "source": "train= pd.read_table('../input/train.tsv',engine= 'c')\ntest= pd.read_table('../input/test.tsv',engine= 'c')\ntr_rows = train.shape[0]",
      "execution_count": null,
      "outputs": []
    },
    {
      "metadata": {
        "collapsed": true,
        "_cell_guid": "858e0909-d974-4e2e-b8ab-ae1e077262ee",
        "_uuid": "ebe923fd29654e07f6a6957159a1acdd8c6de952",
        "trusted": false
      },
      "cell_type": "code",
      "source": "df = pd.concat([train,test],axis = 0)",
      "execution_count": null,
      "outputs": []
    },
    {
      "metadata": {
        "collapsed": true,
        "_cell_guid": "36e9ffd6-ce1f-4e5c-befc-7aa0454a0d07",
        "_uuid": "c97184fbd181f1fe91cf5efcdfdda91347e9d8f0",
        "trusted": false
      },
      "cell_type": "code",
      "source": "df.shape,train.shape, test.shape, test.shape[0]/train.shape[0]",
      "execution_count": null,
      "outputs": []
    },
    {
      "metadata": {
        "collapsed": true,
        "_cell_guid": "127d2304-3742-465a-9557-c90932d5c34d",
        "_uuid": "292848ef80ec0259361862528b62326019bbab4f",
        "trusted": false
      },
      "cell_type": "code",
      "source": "",
      "execution_count": null,
      "outputs": []
    },
    {
      "metadata": {
        "collapsed": true,
        "_cell_guid": "7dc10dfd-7648-4eec-838a-0974fd22080b",
        "_uuid": "225d89df84ac7c6bb83f32bf8e67244db2bd2b31",
        "trusted": false
      },
      "cell_type": "code",
      "source": "print(\"Handling missing values...\")\ndef handle_missing(dataset):\n    dataset.category_name.fillna(value=\"missing\", inplace=True)\n    dataset.brand_name.fillna(value=\"missing\", inplace=True)\n    dataset.item_description.fillna(value=\"missing\", inplace=True)\n    return (dataset)\n\ndf = handle_missing(df)\n\nprint(df.shape)\n",
      "execution_count": null,
      "outputs": []
    },
    {
      "metadata": {
        "collapsed": true,
        "_cell_guid": "d573a253-f9d9-44de-af1a-06eaae77c57b",
        "_uuid": "971877616f68ac08a3aca804ef89b2a65679f374",
        "trusted": false
      },
      "cell_type": "code",
      "source": "#PROCESS CATEGORICAL DATA\n'''print(\"Handling categorical variables...\")\nfrom sklearn.preprocessing import LabelEncoder\nle = LabelEncoder()\n\nle.fit(np.hstack([train.category_name, test.category_name]))\ntrain.category_name = le.transform(train.category_name)\ntest.category_name = le.transform(test.category_name)\n\nle.fit(np.hstack([train.brand_name, test.brand_name]))\ntrain.brand_name = le.transform(train.brand_name)\ntest.brand_name = le.transform(test.brand_name)\ndel le'''",
      "execution_count": null,
      "outputs": []
    },
    {
      "metadata": {
        "collapsed": true,
        "_cell_guid": "26f12685-10ab-41d0-a2e0-602b67d1e92e",
        "_uuid": "bd264b4446c35091527b92a4ea0f10a1f857f5e1",
        "trusted": false
      },
      "cell_type": "code",
      "source": "from sklearn.feature_extraction.text import CountVectorizer\ncv = CountVectorizer(min_df= 10)\ncv.fit(np.hstack([df.name.str.lower()]))\nX_name_df = cv.transform(df.name)\n",
      "execution_count": null,
      "outputs": []
    },
    {
      "metadata": {
        "collapsed": true,
        "_cell_guid": "216825c2-63de-4775-8711-ba98ac15af6e",
        "_uuid": "9122c17b09e9ce7ef2363094f5405262d9ebb204",
        "trusted": false
      },
      "cell_type": "code",
      "source": "X_name_df = X_name_df.tocsr()\n",
      "execution_count": null,
      "outputs": []
    },
    {
      "metadata": {
        "collapsed": true,
        "_cell_guid": "41c47fc1-23ff-4f93-9268-ce39eda9e806",
        "_uuid": "eee1a3e8cf6b0a543aabb65dee4614d1183f778a",
        "trusted": false
      },
      "cell_type": "code",
      "source": "from sklearn.feature_extraction.text import TfidfVectorizer\ntv = TfidfVectorizer(max_features=10000,\n                     ngram_range=(1, 3),\n                     stop_words='english')\ndf_item_description = tv.fit_transform(df['item_description'])\nprint(\"tfidf done\")",
      "execution_count": null,
      "outputs": []
    },
    {
      "metadata": {
        "collapsed": true,
        "_cell_guid": "5b64b9e6-2947-421f-958f-6c3ce7c80f2f",
        "_uuid": "c3624bcdd1c059176ea0c42a1d43f0fb0d727c4b",
        "trusted": false
      },
      "cell_type": "code",
      "source": "df.head()",
      "execution_count": null,
      "outputs": []
    },
    {
      "metadata": {
        "collapsed": true,
        "_cell_guid": "a69d245d-0309-49dd-8dea-5d8d1946f963",
        "_uuid": "73beee9b8ad6a3f5b605ae69d92dd10816c9cff6",
        "trusted": false
      },
      "cell_type": "code",
      "source": "from scipy.sparse import csr_matrix, hstack\ny = hstack((X_name_df,df_item_description)).tocsr()\n",
      "execution_count": null,
      "outputs": []
    },
    {
      "metadata": {
        "collapsed": true,
        "_cell_guid": "88a4dc8c-b140-4e8a-8e36-45ab15c6362f",
        "_uuid": "20d60057295e600c7506b893bfbf5296920a8245",
        "trusted": false
      },
      "cell_type": "code",
      "source": "from sklearn.preprocessing import LabelBinarizer\nlb = LabelBinarizer(sparse_output= True)\nlb.fit(df.brand_name)\nbrand_df = lb.transform(df.brand_name)           ",
      "execution_count": null,
      "outputs": []
    },
    {
      "metadata": {
        "collapsed": true,
        "_cell_guid": "5dd91d94-abe5-4b24-a529-c9e66f5bbac0",
        "_uuid": "52f77659c4ccd8ec77a8113425a994aa579b31e0",
        "trusted": false
      },
      "cell_type": "code",
      "source": "df_dummies = csr_matrix(pd.get_dummies(df[['item_condition_id', 'shipping']],\n                                          sparse=True).values)\n",
      "execution_count": null,
      "outputs": []
    },
    {
      "metadata": {
        "collapsed": true,
        "_cell_guid": "da1cd19a-77a3-47ea-b321-e4a9c0438ff4",
        "_uuid": "5468f7568e94d1cd177923f97befbcdb3d49374c",
        "trusted": false
      },
      "cell_type": "code",
      "source": "'''category split'''\n\ndfcat = df['category_name'].str.split('/', expand=True)\ndfcat.columns = ['cat{}'.format(x+1) for x in dfcat.columns]\n\ndfcat= dfcat.drop([\"cat4\",\"cat5\"],axis=1)\n\n",
      "execution_count": null,
      "outputs": []
    },
    {
      "metadata": {
        "collapsed": true,
        "_cell_guid": "0c771ac3-3582-44af-b8ca-46f5cb54f849",
        "_uuid": "7e6435ee4cd2db81f4ceab1167cec90c98ea3b01",
        "trusted": false
      },
      "cell_type": "code",
      "source": "def handle_missingcat(dataset):\n    dataset.cat1.fillna(value=\"missing\", inplace=True)\n    dataset.cat2.fillna(value=\"missing\", inplace=True)\n    dataset.cat3.fillna(value=\"missing\", inplace=True)\n    return (dataset)\n\ndfcat = handle_missingcat(dfcat)\n\ncv = CountVectorizer()\ndf_category1 = cv.fit_transform(dfcat['cat1'])\ndf_category2 = cv.fit_transform(dfcat['cat2'])\ndf_category3 = cv.fit_transform(dfcat['cat3'])\n",
      "execution_count": null,
      "outputs": []
    },
    {
      "metadata": {
        "collapsed": true,
        "_cell_guid": "a150cc42-5ffc-4fed-b248-1e437536e887",
        "_uuid": "7c87cf2a2587cefae0f5012640aa1831cc074187",
        "trusted": false
      },
      "cell_type": "code",
      "source": "df_sparse_merge = hstack((df_dummies, y, brand_df, df_category1, df_category2, df_category3)).tocsr()\nprint('data processed')",
      "execution_count": null,
      "outputs": []
    },
    {
      "metadata": {
        "collapsed": true,
        "_cell_guid": "3e8f0566-39d7-4299-a1c0-3d6db8464532",
        "_uuid": "52525bf089512e19a1b9314c052c33659ba488c9",
        "trusted": false
      },
      "cell_type": "code",
      "source": "y_df = np.log1p(df[\"price\"])\ntrain_df = df_sparse_merge[:tr_rows,:]\ntest_df = df_sparse_merge[tr_rows:,:]\ny_train = y_df[:tr_rows]\ny_test = df['price'][tr_rows:].values\nfrom sklearn.model_selection import train_test_split\nimport lightgbm as lgb \nfrom sklearn.linear_model import Ridge\nfrom sklearn.ensemble import RandomForestRegressor\nfrom sklearn.tree import DecisionTreeRegressor\nprint('splitting done')",
      "execution_count": null,
      "outputs": []
    },
    {
      "metadata": {
        "collapsed": true,
        "_cell_guid": "ad4bcf2e-fd99-4486-932a-f47a522fe073",
        "_uuid": "60e69ae7f39a15aa72e73d8a50e666d210f7bdc1",
        "trusted": false
      },
      "cell_type": "code",
      "source": "train1 = train_df\n#train2 = train_df[900000:]\ntarget1 = y_train\n#target2 = y_train[900000:]\ntrain_X, valid_X, train_y, valid_y = train_test_split(train1, target1, test_size = 0.15, random_state = 144) \nd_train = lgb.Dataset(train_X, label=train_y, max_bin=8192)\nd_valid = lgb.Dataset(valid_X, label=valid_y, max_bin=8192)\nwatchlist = [d_train, d_valid]\nparams = {\n    'learning_rate': 0.65,\n    'application': 'regression',\n    'max_depth': 3,\n    'num_leaves': 60,\n    'verbosity': -1,\n    'metric': 'RMSE',\n    'data_random_seed': 1,\n    'bagging_fraction': 0.5,\n    'nthread': 4\n}\nmodel = lgb.train(params, train_set=d_train, num_boost_round=4000, valid_sets=watchlist, \\\nearly_stopping_rounds=1000, verbose_eval=1000) \npredsL = model.predict(train1)#result 0.7\ntpredsL = model.predict(test_df)\nprint(\"lgb done\")\n#ridge\n\nmodel2 = Ridge(alpha=.9, copy_X=True, fit_intercept=True, max_iter=100,normalize=False, random_state=101, solver='auto', tol=0.01)\nmodel2.fit(train1, target1)\npredsR = model2.predict(train1)\ntpredsR = model2.predict(test_df)\nprint(\"R1 done\")\nfrom xgboost import XGBRegressor\nmodel3 = XGBRegressor(n_jobs = -1)\nmodel3.fit(train1,target1)\npredsX = model3.predict(train1)\ntpredsX = model3.predict(test_df)\nprint(\"xgb done\")\nmodel4 = Ridge(solver=\"sag\", fit_intercept=True, random_state=205)\nmodel4.fit(train1,target1)\npredsR2 = model4.predict(train1)\ntpredsR2 = model4.predict(test_df)\nprint(\"R2 done\")\nensem = 0.1*(predsL)\n#rmsle(y_test,(y_pred+np.expm1(predsR2))/2)\nensem += 0.4*(predsR)\nensem  += 0.1*(predsX)\nensem  += 0.4*(predsR2)\nensemt = 0.1*(tpredsL)\nensemt += 0.4*(tpredsR)\nensemt  += 0.1*(tpredsX)\nensemt  += 0.4*(tpredsR2)\ntrain_for_next = pd.DataFrame([predsR2,predsR,predsL,predsX,ensem]).transpose()\ntest_for_next = pd.DataFrame([tpredsR2,tpredsR,tpredsL,tpredsX,ensemt]).transpose()\n'''modelR3 = Ridge(alpha=.9, copy_X=True, fit_intercept=True, max_iter=100,normalize=False, random_state=101, solver='auto', tol=0.01)\nmodelR3.fit(train_for_next, target2)\npredsR3 = modelR3.predict(test_for_next)'''\n\n\n\n'''regressor = RandomForestRegressor(n_estimators = 100,n_jobs = -1, random_state = 0)\nregressor.fit(train_df, y_train)\ny_predrf = regressor.predict(test_df)'''\n\n\n'''dtregressor = DecisionTreeRegressor(max_depth= 50,random_state = 0)\ndtregressor.fit(train_df,y_train)\ny_preddt = dtregressor.predict(train_df[:10000])\nprint(\"dt done\")'''\n",
      "execution_count": null,
      "outputs": []
    },
    {
      "metadata": {
        "collapsed": true,
        "_cell_guid": "f303a962-50bc-4345-8383-8359a7a16cdb",
        "_uuid": "9431eed53dbd0393c93953e6f14de58db183f6bc",
        "trusted": false
      },
      "cell_type": "code",
      "source": "\n#y_pred += 0.2*np.expm1(y_predrf)\n#y_pred += 0.2*np.expm1(y_preddt)\n#rmsle(y_test,y_pred)\n#y_pred = np.expm1(predsR3)\n",
      "execution_count": null,
      "outputs": []
    },
    {
      "metadata": {
        "collapsed": true,
        "_cell_guid": "3e7bec1e-84e7-49b2-8896-7d56f9b25502",
        "_uuid": "1b7e31510e75da8926424aa0f51123fe33b82076",
        "trusted": false
      },
      "cell_type": "code",
      "source": "'''result = pd.DataFrame([y_pred,y_test]).transpose()\nresult.columns = ['pred_ensemble','test']\nresult.boxplot(figsize = (12,6))'''\n#rmsle(np.expm1(predsR3),np.expm1(y_pred_nn))\n#print(np.expm1(predsR3),y_pred)\n",
      "execution_count": null,
      "outputs": []
    },
    {
      "metadata": {
        "collapsed": true,
        "_cell_guid": "f4ce18ad-d483-4bc9-bdb9-7fe2b681df8f",
        "_uuid": "41925999ebf11bb1fed0d65507ccb87e10557036",
        "trusted": false
      },
      "cell_type": "code",
      "source": "'''result = pd.DataFrame([np.expm1(predsR2),np.expm1(predsR),np.expm1(predsL),np.expm1(predsX),y_pred,y_test]).transpose()\nresult.columns = ['ridge2','ridge','lgbm','xgb','pred_ensemble','test']\nresult.boxplot(figsize = (14,9))'''\n%time\nfrom sklearn.preprocessing import StandardScaler\nsc = StandardScaler()\ntrain_for_next_scaled = np.zeros(train_for_next.shape)\ntest_for_next_scaled = np.zeros(test_for_next.shape)\ntrain_for_next_scaled_sin = np.zeros(train_for_next.shape)\ntest_for_next_scaled_sin = np.zeros(test_for_next.shape)\ntrain_for_next_scaled_cos = np.zeros(train_for_next.shape)\ntest_for_next_scaled_cos = np.zeros(test_for_next.shape)\nfor i in range(5):\n    train_for_next_scaled[:,i] = sc.fit_transform(train_for_next.iloc[:,i].reshape(-1,1))[:,0]\n    test_for_next_scaled[:,i] = sc.fit_transform(test_for_next.iloc[:,i].reshape(-1,1))[:,0]\n    train_for_next_scaled_sin[:,i] = np.sin(train_for_next_scaled[:,i])\n    test_for_next_scaled_sin[:,i] =  np.sin(test_for_next_scaled[:,i])\n    train_for_next_scaled_cos[:,i] = np.cos(train_for_next_scaled[:,i])\n    test_for_next_scaled_cos[:,i] =  np.cos(test_for_next_scaled[:,i])\nNN_train = np.hstack((np.asmatrix(train_for_next_scaled),np.asmatrix(train_for_next_scaled_sin),np.asmatrix(train_for_next_scaled_cos))) \nNN_test = np.hstack((np.asmatrix(test_for_next_scaled),np.asmatrix(test_for_next_scaled_sin),np.asmatrix(test_for_next_scaled_cos))) \n#from sklearn.neural_network import MLPRegressor \n#nn = MLPRegressor(hidden_layer_sizes=(50,50,50),max_iter=150,verbose= True,random_state= 0,tol=0.0000000001)\n#nn.fit(NN_train,target1)\nfinalxg = XGBRegressor(n_jobs = -1)\nfinalxg.fit(NN_train,target1)\ny_pred_nn = finalxg.predict(NN_test)\ny_pred = np.expm1(y_pred_nn)",
      "execution_count": null,
      "outputs": []
    },
    {
      "metadata": {
        "collapsed": true,
        "_cell_guid": "0c123939-04e2-4c7a-8072-e1037f781d1f",
        "_uuid": "cfb909ffda4eb7c24f8aeef3cf7a1f8600711ca8",
        "trusted": false
      },
      "cell_type": "code",
      "source": "#rmsle(y_test,(np.expm1(predsL)+np.expm1(predsX)+np.expm1(predsR)+np.expm1(predsR2)+np.expm1(y_predrf))/5)\n \n",
      "execution_count": null,
      "outputs": []
    },
    {
      "metadata": {
        "collapsed": true,
        "_cell_guid": "a9515a1f-33e0-4be2-9a2d-1c84f935f793",
        "_uuid": "241e2c0c509ffa536a7cd98a46b6ec02392f7d01",
        "trusted": false
      },
      "cell_type": "code",
      "source": "submission = pd.read_csv('../input/sample_submission.csv',engine = 'c')\nsubmission['price'] = y_pred\nprint(\"submitting...\")\nsubmission.to_csv('ensemblerrlxdt.csv',index = False)",
      "execution_count": null,
      "outputs": []
    },
    {
      "metadata": {
        "collapsed": true,
        "_cell_guid": "e18fe246-3efb-4199-bb76-3658f4c5cfcf",
        "_uuid": "88cabcff838c4f3e58be8c294488b11bd43f9ecb",
        "trusted": false
      },
      "cell_type": "code",
      "source": "",
      "execution_count": null,
      "outputs": []
    },
    {
      "metadata": {
        "collapsed": true,
        "_cell_guid": "76199bb5-a57c-40d9-9e53-f6333c98efa4",
        "_uuid": "e4532995cd6d4244df02dcb8a4b8a55d54bd8df0",
        "trusted": false
      },
      "cell_type": "code",
      "source": "",
      "execution_count": null,
      "outputs": []
    },
    {
      "metadata": {
        "collapsed": true,
        "_cell_guid": "5eaa5e79-8838-4b56-8902-4f3099d81c9e",
        "_uuid": "eade59a1ccbefd027d7444e15056904ac47332a1",
        "trusted": false
      },
      "cell_type": "code",
      "source": "",
      "execution_count": null,
      "outputs": []
    },
    {
      "metadata": {
        "collapsed": true,
        "_cell_guid": "9b08ab88-b186-4be7-bf54-80ac7419ca05",
        "_uuid": "78a3433375addf9f523690912015e4711eb0e497",
        "trusted": false
      },
      "cell_type": "code",
      "source": "",
      "execution_count": null,
      "outputs": []
    }
  ],
  "metadata": {
    "language_info": {
      "mimetype": "text/x-python",
      "pygments_lexer": "ipython3",
      "name": "python",
      "codemirror_mode": {
        "version": 3,
        "name": "ipython"
      },
      "nbconvert_exporter": "python",
      "version": "3.6.3",
      "file_extension": ".py"
    },
    "kernelspec": {
      "display_name": "Python 3",
      "language": "python",
      "name": "python3"
    }
  },
  "nbformat": 4,
  "nbformat_minor": 1
}